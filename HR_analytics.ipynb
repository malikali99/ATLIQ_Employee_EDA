{
 "cells": [
  {
   "cell_type": "markdown",
   "metadata": {},
   "source": [
    "> #  **`ATLIQ HR Exploratory Data Analysis`**\n",
    "\n",
    "<img src=\"./Atliq_logo_for_dashboard.png\" width=\"300\" height=\"300\" style=\"display: block; margin-left: auto; margin-right: auto;\">\n",
    "\n",
    "\n",
    "To see live dashboard click [here.]([attachment:image.png](https://app.powerbi.com/view?r=eyJrIjoiN2Y5ZDIwMjQtYTQyMC00NWI5LTliNzktMWMzNzJjMDhmYTEzIiwidCI6IjYyZjIxODFlLWY4ZjQtNDVjZS05NzE0LTIyNTIyYjE2OWY1NSIsImMiOjl9))\n",
    "____\n",
    "\n",
    "**`Author Name:`** Malik Hasnain Ali\\\n",
    "**`Email ID:`** 512yaali@gmai.com\\\n",
    "**`Linkedin profile:`** [hasnainali99](https://www.linkedin.com/in/hasnainali99/)\n",
    "\n",
    "____\n",
    "**`Data Source:`**\\\n",
    "It is a secondary data which is collected from the following [link](https://codebasics.io/resources/resume-project-data-analytics)\n",
    "____\n",
    "**`Data Collection:`**\\\n",
    "Data collected can be seen as a raw .xlsx file here\n",
    "____\n",
    "**`Data Storage:`**\\\n",
    "The collected data has been stored in the excel file name as Atliq_HR.xlsx. Each id in the dataset is uniquely identified by its Employee Id.\n",
    "____\n",
    "**`Data Publish Year:`**\n",
    "- 2021\n",
    "____\n",
    "**`Tools:`**\n",
    "- Google Chrome\n",
    "- Markdown\n",
    "- Excel\n",
    "- Power BI\n",
    "- Data Modelling\n",
    "- Data cleaning \n",
    "- M Language\n",
    "____\n",
    "**`Data Cleaning/Preparation:`**\\\n",
    "In the initial data preparation phase, we performed the following tasks:\n",
    "1. Data loading and inspection\n",
    "2. Handling Missing values\n",
    "3. Handling Outliers\n",
    "4. Data Cleaning and formating\n",
    "____\n",
    "## **The dataset collected from the source has the following description** \n",
    "\n",
    "**`Description:`**\\\n",
    "AtliQ was established in 2017 as an IT services company to help businesses integrate their processes with automated tools. Over the past 5 years, AtliQ has successfully provided many businesses with custom solutions that help them scale, or streamline their processes, reduce overhead costs and increase overall efficiency.\n",
    "\n",
    "As a multinational company located in the United States and India, we cater to businesses from all corners of the world. Our insightful strategies and reliable processes have helped us assist various industries with remarkable results. Our resourcefulness has led to satisfied clients, successful collaborations, and rapid growth.\n",
    "\n",
    "It is our mission to continue serving companies with innovative software solutions and assisting them in their digital transformation.♨️\n",
    "____\n",
    "**`Acknowledgements`:**\n",
    "I would like to thank [Codebasics](https://codebasics.io/) for helping me collecting data\n",
    "\n",
    "<img src=\"./HR_2.gif\" width=\"800\" height=\"600\" style=\"display: block; margin-left: auto; margin-right: auto;\">"
   ]
  }
 ],
 "metadata": {
  "kernelspec": {
   "display_name": "Python 3",
   "language": "python",
   "name": "python3"
  },
  "language_info": {
   "codemirror_mode": {
    "name": "ipython",
    "version": 3
   },
   "file_extension": ".py",
   "mimetype": "text/x-python",
   "name": "python",
   "nbconvert_exporter": "python",
   "pygments_lexer": "ipython3",
   "version": "3.11.2"
  }
 },
 "nbformat": 4,
 "nbformat_minor": 2
}
